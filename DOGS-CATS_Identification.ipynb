{
 "cells": [
  {
   "cell_type": "code",
   "execution_count": 1,
   "metadata": {},
   "outputs": [],
   "source": [
    "import tensorflow as tf\n",
    "from tensorflow.keras.preprocessing.image import ImageDataGenerator\n",
    "import numpy as np\n",
    "from tensorflow.keras.preprocessing import image"
   ]
  },
  {
   "cell_type": "markdown",
   "metadata": {},
   "source": [
    "# Preparing Training Data - using ImageDataGenerator for transformations on our training data to avoid Overfitting"
   ]
  },
  {
   "cell_type": "code",
   "execution_count": 2,
   "metadata": {},
   "outputs": [
    {
     "name": "stdout",
     "output_type": "stream",
     "text": [
      "Found 8010 images belonging to 2 classes.\n"
     ]
    }
   ],
   "source": [
    "train_datagen=ImageDataGenerator(rescale=1/255,zoom_range=0.2,shear_range=0.2,horizontal_flip=True)\n",
    "training_set=train_datagen.flow_from_directory('dataset/training_set',target_size=(64,64),\n",
    "                                               batch_size=32,class_mode='binary')"
   ]
  },
  {
   "cell_type": "markdown",
   "metadata": {},
   "source": [
    "# Preparing Test Data"
   ]
  },
  {
   "cell_type": "code",
   "execution_count": 3,
   "metadata": {},
   "outputs": [
    {
     "name": "stdout",
     "output_type": "stream",
     "text": [
      "Found 2000 images belonging to 2 classes.\n"
     ]
    }
   ],
   "source": [
    "test_datagen=ImageDataGenerator(rescale=1/255)\n",
    "test_set=test_datagen.flow_from_directory('dataset/test_set',target_size=(64,64),\n",
    "                                  batch_size=32,class_mode='binary')"
   ]
  },
  {
   "cell_type": "markdown",
   "metadata": {},
   "source": [
    "# Initializing and Forming the Convolutional Layers"
   ]
  },
  {
   "cell_type": "code",
   "execution_count": 4,
   "metadata": {},
   "outputs": [],
   "source": [
    "cnn=tf.keras.models.Sequential()\n",
    "cnn.add(tf.keras.layers.Conv2D(filters=32, kernel_size=3, activation='relu', input_shape=[64,64,3]))\n",
    "\n",
    "#POOLING\n",
    "cnn.add(tf.keras.layers.MaxPool2D(pool_size=2, strides=2))"
   ]
  },
  {
   "cell_type": "code",
   "execution_count": 5,
   "metadata": {},
   "outputs": [],
   "source": [
    "#2nd Convolutional Layer\n",
    "\n",
    "cnn.add(tf.keras.layers.Conv2D(filters=32, kernel_size=3, activation='relu'))\n",
    "cnn.add(tf.keras.layers.MaxPool2D(pool_size=2, strides=2))"
   ]
  },
  {
   "cell_type": "markdown",
   "metadata": {},
   "source": [
    "# Flattening"
   ]
  },
  {
   "cell_type": "code",
   "execution_count": 6,
   "metadata": {},
   "outputs": [],
   "source": [
    "cnn.add(tf.keras.layers.Flatten())"
   ]
  },
  {
   "cell_type": "markdown",
   "metadata": {},
   "source": [
    "# Adding ANN and Fitting our Model"
   ]
  },
  {
   "cell_type": "code",
   "execution_count": null,
   "metadata": {},
   "outputs": [
    {
     "name": "stderr",
     "output_type": "stream",
     "text": [
      "/home/saransh/anaconda3/lib/python3.8/site-packages/tensorflow/python/keras/engine/training.py:1878: UserWarning: `Model.fit_generator` is deprecated and will be removed in a future version. Please use `Model.fit`, which supports generators.\n",
      "  warnings.warn('`Model.fit_generator` is deprecated and '\n"
     ]
    },
    {
     "name": "stdout",
     "output_type": "stream",
     "text": [
      "Epoch 1/25\n",
      "251/251 [==============================] - 66s 260ms/step - loss: 0.6921 - accuracy: 0.5252 - val_loss: 0.6192 - val_accuracy: 0.6655\n",
      "Epoch 2/25\n",
      "251/251 [==============================] - 64s 255ms/step - loss: 0.6178 - accuracy: 0.6606 - val_loss: 0.5978 - val_accuracy: 0.6905\n",
      "Epoch 3/25\n",
      "251/251 [==============================] - 65s 258ms/step - loss: 0.5459 - accuracy: 0.7159 - val_loss: 0.4997 - val_accuracy: 0.7565\n",
      "Epoch 4/25\n",
      "251/251 [==============================] - 64s 256ms/step - loss: 0.5064 - accuracy: 0.7413 - val_loss: 0.4817 - val_accuracy: 0.7710\n",
      "Epoch 5/25\n",
      "251/251 [==============================] - 64s 255ms/step - loss: 0.4912 - accuracy: 0.7582 - val_loss: 0.4571 - val_accuracy: 0.7885\n",
      "Epoch 6/25\n",
      "251/251 [==============================] - 65s 257ms/step - loss: 0.4645 - accuracy: 0.7787 - val_loss: 0.4662 - val_accuracy: 0.7780\n",
      "Epoch 7/25\n",
      "251/251 [==============================] - 65s 257ms/step - loss: 0.4423 - accuracy: 0.7905 - val_loss: 0.4894 - val_accuracy: 0.7655\n",
      "Epoch 8/25\n",
      "251/251 [==============================] - 66s 264ms/step - loss: 0.4297 - accuracy: 0.7947 - val_loss: 0.4735 - val_accuracy: 0.7845\n",
      "Epoch 9/25\n",
      "217/251 [========================>.....] - ETA: 7s - loss: 0.4281 - accuracy: 0.7951"
     ]
    }
   ],
   "source": [
    "cnn.add(tf.keras.layers.Dense(units=128, activation='relu'))\n",
    "cnn.add(tf.keras.layers.Dense(units=1, activation='sigmoid'))\n",
    "cnn.compile(optimizer='adam', loss='binary_crossentropy', metrics=['accuracy'])\n",
    "cnn.fit_generator(training_set, validation_data=test_set, epochs=25)"
   ]
  },
  {
   "cell_type": "markdown",
   "metadata": {},
   "source": [
    "# Prediction on a Single Image"
   ]
  },
  {
   "cell_type": "code",
   "execution_count": null,
   "metadata": {},
   "outputs": [],
   "source": [
    "test_image=image.load_img('dataset/single_prediction', test_size=(64,64))\n",
    "test_image=image.image_to_array(test_image)\n",
    "test_image=np.expand_dims(test_image, axis=0)"
   ]
  },
  {
   "cell_type": "code",
   "execution_count": null,
   "metadata": {},
   "outputs": [],
   "source": [
    "result=cnn.predict(test_image)\n",
    "training_set.class_indices\n",
    "if(result[0][0]==1):\n",
    "    print(\"It's a Dog\")\n",
    "else:\n",
    "    print(\"It's a Cat\")"
   ]
  }
 ],
 "metadata": {
  "kernelspec": {
   "display_name": "Python 3",
   "language": "python",
   "name": "python3"
  },
  "language_info": {
   "codemirror_mode": {
    "name": "ipython",
    "version": 3
   },
   "file_extension": ".py",
   "mimetype": "text/x-python",
   "name": "python",
   "nbconvert_exporter": "python",
   "pygments_lexer": "ipython3",
   "version": "3.8.3"
  }
 },
 "nbformat": 4,
 "nbformat_minor": 4
}
